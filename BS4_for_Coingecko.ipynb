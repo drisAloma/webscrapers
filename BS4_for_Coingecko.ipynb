{
 "cells": [
  {
   "attachments": {},
   "cell_type": "markdown",
   "metadata": {},
   "source": [
    "#### Imports libraries"
   ]
  },
  {
   "cell_type": "code",
   "execution_count": 1,
   "metadata": {},
   "outputs": [],
   "source": [
    "from bs4 import BeautifulSoup\n",
    "import requests\n",
    "import pandas as pd "
   ]
  },
  {
   "attachments": {},
   "cell_type": "markdown",
   "metadata": {},
   "source": [
    "#### Request HTTP"
   ]
  },
  {
   "cell_type": "markdown",
   "metadata": {},
   "source": [
    "#### store website in variable"
   ]
  },
  {
   "cell_type": "code",
   "execution_count": 4,
   "metadata": {},
   "outputs": [],
   "source": [
    "ua = {\"User-Agent\":\"Mozilla/5.0 (Windows NT 10.0; Win64; x64) AppleWebKit/537.36 (KHTML, like Gecko) Chrome/92.0.4515.107 Safari/537.36 Edg/92.0.902.62\"}"
   ]
  },
  {
   "cell_type": "code",
   "execution_count": 16,
   "metadata": {},
   "outputs": [],
   "source": [
    "website = 'https://www.coingecko.com/en'"
   ]
  },
  {
   "cell_type": "code",
   "execution_count": 17,
   "metadata": {},
   "outputs": [],
   "source": [
    "response = requests.get(website)"
   ]
  },
  {
   "cell_type": "code",
   "execution_count": 18,
   "metadata": {},
   "outputs": [
    {
     "data": {
      "text/plain": [
       "200"
      ]
     },
     "execution_count": 18,
     "metadata": {},
     "output_type": "execute_result"
    }
   ],
   "source": [
    "response.status_code # check request status"
   ]
  },
  {
   "cell_type": "markdown",
   "metadata": {},
   "source": [
    "### Soup Object"
   ]
  },
  {
   "cell_type": "code",
   "execution_count": 18,
   "metadata": {},
   "outputs": [],
   "source": [
    "soup = BeautifulSoup(response.content, 'html.parser')"
   ]
  },
  {
   "cell_type": "code",
   "execution_count": 34,
   "metadata": {},
   "outputs": [],
   "source": [
    "results = soup.find('table', {'class':'table-scrollable'}).find('tbody').find_all('tr')"
   ]
  },
  {
   "cell_type": "code",
   "execution_count": 36,
   "metadata": {},
   "outputs": [
    {
     "data": {
      "text/plain": [
       "100"
      ]
     },
     "execution_count": 36,
     "metadata": {},
     "output_type": "execute_result"
    }
   ],
   "source": [
    "len(results)"
   ]
  },
  {
   "attachments": {},
   "cell_type": "markdown",
   "metadata": {},
   "source": [
    "#### Required data: Name; Price; 24h Change; Market Cap; 24h Volume; Supply\n"
   ]
  },
  {
   "cell_type": "code",
   "execution_count": 56,
   "metadata": {},
   "outputs": [
    {
     "data": {
      "text/plain": [
       "'Ethereum'"
      ]
     },
     "execution_count": 56,
     "metadata": {},
     "output_type": "execute_result"
    }
   ],
   "source": [
    "results[0].find('a', {'class':'tw-hidden lg:tw-flex font-bold tw-items-center tw-justify-between'}).get_text().strip() # Name"
   ]
  },
  {
   "cell_type": "code",
   "execution_count": 63,
   "metadata": {},
   "outputs": [
    {
     "data": {
      "text/plain": [
       "'$34,415'"
      ]
     },
     "execution_count": 63,
     "metadata": {},
     "output_type": "execute_result"
    }
   ],
   "source": [
    "results[0].find('td', {'class':'td-price'}).get_text().strip() # Price"
   ]
  },
  {
   "cell_type": "code",
   "execution_count": 49,
   "metadata": {},
   "outputs": [
    {
     "data": {
      "text/plain": [
       "'-0.2%'"
      ]
     },
     "execution_count": 49,
     "metadata": {},
     "output_type": "execute_result"
    }
   ],
   "source": [
    "results[0].find('td', {'class':'td-change1h'}).get_text().strip() # Hourly price change"
   ]
  },
  {
   "cell_type": "code",
   "execution_count": 50,
   "metadata": {},
   "outputs": [
    {
     "data": {
      "text/plain": [
       "'0.4%'"
      ]
     },
     "execution_count": 50,
     "metadata": {},
     "output_type": "execute_result"
    }
   ],
   "source": [
    "results[0].find('td', {'class':'td-change24h'}).get_text().strip() # 24 hours price change"
   ]
  },
  {
   "cell_type": "code",
   "execution_count": 51,
   "metadata": {},
   "outputs": [
    {
     "data": {
      "text/plain": [
       "'8.9%'"
      ]
     },
     "execution_count": 51,
     "metadata": {},
     "output_type": "execute_result"
    }
   ],
   "source": [
    "results[0].find('td', {'class':'td-change7d'}).get_text().strip() # 7 days price change"
   ]
  },
  {
   "cell_type": "code",
   "execution_count": 60,
   "metadata": {},
   "outputs": [
    {
     "data": {
      "text/plain": [
       "'$44,809,923,769'"
      ]
     },
     "execution_count": 60,
     "metadata": {},
     "output_type": "execute_result"
    }
   ],
   "source": [
    "results[2].find('td', {'class':'td-liquidity_score'}).get_text().strip() # 24 hours volume change"
   ]
  },
  {
   "cell_type": "code",
   "execution_count": 61,
   "metadata": {},
   "outputs": [
    {
     "data": {
      "text/plain": [
       "'$646,133,309,251'"
      ]
     },
     "execution_count": 61,
     "metadata": {},
     "output_type": "execute_result"
    }
   ],
   "source": [
    "results[0].find('td', {'class':'td-market_cap'}).get_text().strip() # Market cap"
   ]
  },
  {
   "cell_type": "code",
   "execution_count": 64,
   "metadata": {},
   "outputs": [],
   "source": [
    "name = []\n",
    "price = []\n",
    "change_1h = []\n",
    "change_24h = []\n",
    "change_7d = []\n",
    "volume_24h = []\n",
    "market_cap=[]\n",
    "\n",
    "for result in results:\n",
    "    \n",
    "    # name\n",
    "    try:\n",
    "        name.append(result.find('a', {'class':'tw-hidden lg:tw-flex font-bold tw-items-center tw-justify-between'}).get_text().strip()) \n",
    "    except:\n",
    "        name.append('n/a')\n",
    "    \n",
    "    # price\n",
    "    try:\n",
    "        price.append(result.find('td', {'class':'td-price'}).get_text().strip())\n",
    "    except:\n",
    "        price.append('n/a')\n",
    "    \n",
    "    # change_1h\n",
    "    try:\n",
    "        change_1h.append(result.find('td', {'class':'td-change1h'}).get_text().strip())\n",
    "    except:\n",
    "        change_1h.append('n/a')\n",
    "        \n",
    "    # change_24h\n",
    "    try:\n",
    "        change_24h.append(result.find('td', {'class':'td-change24h'}).get_text().strip())\n",
    "    except:\n",
    "        change_24h.append('n/a')\n",
    "    \n",
    "    # change_7d\n",
    "    try:\n",
    "        change_7d.append(result.find('td', {'class':'td-change7d'}).get_text().strip())\n",
    "    except:\n",
    "        change_7d.append('n/a')\n",
    "    \n",
    "    # volume_24h\n",
    "    try:\n",
    "        volume_24h.append(result.find('td', {'class':'td-liquidity_score'}).get_text().strip())\n",
    "    except:\n",
    "        volume_24h.append('n/a')\n",
    "    \n",
    "    # market_cap\n",
    "    try:\n",
    "        market_cap.append(result.find('td', {'class':'td-market_cap'}).get_text().strip())\n",
    "    except:\n",
    "        market_cap.append('n/a')"
   ]
  },
  {
   "attachments": {},
   "cell_type": "markdown",
   "metadata": {},
   "source": [
    "#### Generate Dataframe"
   ]
  },
  {
   "cell_type": "code",
   "execution_count": 66,
   "metadata": {},
   "outputs": [],
   "source": [
    "# create dataframe\n",
    "crypto = pd.DataFrame({'Coin': name, 'Price':price, 'Change 1h':change_1h,\n",
    "                                'Change 24h': change_24h, 'Change 7d': change_7d, 'Volume 24h': volume_24h,\n",
    "                      'Market Cap': market_cap})"
   ]
  },
  {
   "cell_type": "code",
   "execution_count": 67,
   "metadata": {},
   "outputs": [
    {
     "data": {
      "text/html": [
       "<div>\n",
       "<style scoped>\n",
       "    .dataframe tbody tr th:only-of-type {\n",
       "        vertical-align: middle;\n",
       "    }\n",
       "\n",
       "    .dataframe tbody tr th {\n",
       "        vertical-align: top;\n",
       "    }\n",
       "\n",
       "    .dataframe thead th {\n",
       "        text-align: right;\n",
       "    }\n",
       "</style>\n",
       "<table border=\"1\" class=\"dataframe\">\n",
       "  <thead>\n",
       "    <tr style=\"text-align: right;\">\n",
       "      <th></th>\n",
       "      <th>Coin</th>\n",
       "      <th>Price</th>\n",
       "      <th>Change 1h</th>\n",
       "      <th>Change 24h</th>\n",
       "      <th>Change 7d</th>\n",
       "      <th>Volume 24h</th>\n",
       "      <th>Market Cap</th>\n",
       "    </tr>\n",
       "  </thead>\n",
       "  <tbody>\n",
       "    <tr>\n",
       "      <th>0</th>\n",
       "      <td>Bitcoin</td>\n",
       "      <td>$34,415</td>\n",
       "      <td>-0.2%</td>\n",
       "      <td>0.4%</td>\n",
       "      <td>8.9%</td>\n",
       "      <td>$19,923,431,440</td>\n",
       "      <td>$646,133,309,251</td>\n",
       "    </tr>\n",
       "    <tr>\n",
       "      <th>1</th>\n",
       "      <td>Ethereum</td>\n",
       "      <td>$2,157.14</td>\n",
       "      <td>-0.1%</td>\n",
       "      <td>-0.7%</td>\n",
       "      <td>13.5%</td>\n",
       "      <td>$17,054,176,517</td>\n",
       "      <td>$252,317,274,122</td>\n",
       "    </tr>\n",
       "    <tr>\n",
       "      <th>2</th>\n",
       "      <td>Tether</td>\n",
       "      <td>$1.00</td>\n",
       "      <td>-0.1%</td>\n",
       "      <td>0.1%</td>\n",
       "      <td>-0.1%</td>\n",
       "      <td>$44,809,923,769</td>\n",
       "      <td>$62,107,519,381</td>\n",
       "    </tr>\n",
       "    <tr>\n",
       "      <th>3</th>\n",
       "      <td>Binance Coin</td>\n",
       "      <td>$298.25</td>\n",
       "      <td>-0.1%</td>\n",
       "      <td>-1.4%</td>\n",
       "      <td>-0.9%</td>\n",
       "      <td>$1,207,577,404</td>\n",
       "      <td>$46,143,033,202</td>\n",
       "    </tr>\n",
       "    <tr>\n",
       "      <th>4</th>\n",
       "      <td>Cardano</td>\n",
       "      <td>$1.21</td>\n",
       "      <td>-0.3%</td>\n",
       "      <td>-2.3%</td>\n",
       "      <td>2.5%</td>\n",
       "      <td>$1,056,668,240</td>\n",
       "      <td>$38,789,934,906</td>\n",
       "    </tr>\n",
       "    <tr>\n",
       "      <th>...</th>\n",
       "      <td>...</td>\n",
       "      <td>...</td>\n",
       "      <td>...</td>\n",
       "      <td>...</td>\n",
       "      <td>...</td>\n",
       "      <td>...</td>\n",
       "      <td>...</td>\n",
       "    </tr>\n",
       "    <tr>\n",
       "      <th>95</th>\n",
       "      <td>Qtum</td>\n",
       "      <td>$6.05</td>\n",
       "      <td>-0.1%</td>\n",
       "      <td>-2.2%</td>\n",
       "      <td>8.5%</td>\n",
       "      <td>$133,809,712</td>\n",
       "      <td>$629,069,781</td>\n",
       "    </tr>\n",
       "    <tr>\n",
       "      <th>96</th>\n",
       "      <td>DigiByte</td>\n",
       "      <td>$0.043074874589</td>\n",
       "      <td>-0.5%</td>\n",
       "      <td>4.5%</td>\n",
       "      <td>13.1%</td>\n",
       "      <td>$59,957,898</td>\n",
       "      <td>$622,867,749</td>\n",
       "    </tr>\n",
       "    <tr>\n",
       "      <th>97</th>\n",
       "      <td>cUSDT</td>\n",
       "      <td>$0.021277606546</td>\n",
       "      <td>-0.0%</td>\n",
       "      <td>-0.0%</td>\n",
       "      <td>0.0%</td>\n",
       "      <td>$611,923</td>\n",
       "      <td>$614,123,888</td>\n",
       "    </tr>\n",
       "    <tr>\n",
       "      <th>98</th>\n",
       "      <td>Ontology</td>\n",
       "      <td>$0.655504</td>\n",
       "      <td>-0.0%</td>\n",
       "      <td>-1.1%</td>\n",
       "      <td>3.1%</td>\n",
       "      <td>$124,579,120</td>\n",
       "      <td>$575,282,501</td>\n",
       "    </tr>\n",
       "    <tr>\n",
       "      <th>99</th>\n",
       "      <td>Nexus Mutual</td>\n",
       "      <td>$82.52</td>\n",
       "      <td>-0.0%</td>\n",
       "      <td>-1.2%</td>\n",
       "      <td>13.1%</td>\n",
       "      <td>$1,604.18</td>\n",
       "      <td>$569,684,257</td>\n",
       "    </tr>\n",
       "  </tbody>\n",
       "</table>\n",
       "<p>100 rows × 7 columns</p>\n",
       "</div>"
      ],
      "text/plain": [
       "            Coin            Price Change 1h Change 24h Change 7d  \\\n",
       "0        Bitcoin          $34,415     -0.2%       0.4%      8.9%   \n",
       "1       Ethereum        $2,157.14     -0.1%      -0.7%     13.5%   \n",
       "2         Tether            $1.00     -0.1%       0.1%     -0.1%   \n",
       "3   Binance Coin          $298.25     -0.1%      -1.4%     -0.9%   \n",
       "4        Cardano            $1.21     -0.3%      -2.3%      2.5%   \n",
       "..           ...              ...       ...        ...       ...   \n",
       "95          Qtum            $6.05     -0.1%      -2.2%      8.5%   \n",
       "96      DigiByte  $0.043074874589     -0.5%       4.5%     13.1%   \n",
       "97         cUSDT  $0.021277606546     -0.0%      -0.0%      0.0%   \n",
       "98      Ontology        $0.655504     -0.0%      -1.1%      3.1%   \n",
       "99  Nexus Mutual           $82.52     -0.0%      -1.2%     13.1%   \n",
       "\n",
       "         Volume 24h        Market Cap  \n",
       "0   $19,923,431,440  $646,133,309,251  \n",
       "1   $17,054,176,517  $252,317,274,122  \n",
       "2   $44,809,923,769   $62,107,519,381  \n",
       "3    $1,207,577,404   $46,143,033,202  \n",
       "4    $1,056,668,240   $38,789,934,906  \n",
       "..              ...               ...  \n",
       "95     $133,809,712      $629,069,781  \n",
       "96      $59,957,898      $622,867,749  \n",
       "97         $611,923      $614,123,888  \n",
       "98     $124,579,120      $575,282,501  \n",
       "99        $1,604.18      $569,684,257  \n",
       "\n",
       "[100 rows x 7 columns]"
      ]
     },
     "execution_count": 67,
     "metadata": {},
     "output_type": "execute_result"
    }
   ],
   "source": [
    "# output dataframe\n",
    "crypto"
   ]
  },
  {
   "attachments": {},
   "cell_type": "markdown",
   "metadata": {},
   "source": [
    "#### Export to Excel file"
   ]
  },
  {
   "cell_type": "code",
   "execution_count": 69,
   "metadata": {},
   "outputs": [],
   "source": [
    "crypto.to_excel('coingecko.com_single.xlsx', index=False)"
   ]
  },
  {
   "attachments": {},
   "cell_type": "markdown",
   "metadata": {},
   "source": [
    "#### Pagination - Scrape 20 Pages"
   ]
  },
  {
   "cell_type": "code",
   "execution_count": null,
   "metadata": {},
   "outputs": [],
   "source": [
    "name = []\n",
    "price = []\n",
    "change_1h = []\n",
    "change_24h = []\n",
    "change_7d = []\n",
    "volume_24h = []\n",
    "market_cap=[]\n",
    "\n",
    "for i in range(1,11):\n",
    "    print(i)\n",
    "    \n",
    "    #website \n",
    "    website ='https://www.coingecko.com/en?page='+str(i)\n",
    "\n",
    "    # request to website\n",
    "    response = requests.get(website)\n",
    "    \n",
    "    # soup object\n",
    "    soup = BeautifulSoup(response.content, 'html.parser')\n",
    "    \n",
    "    # results\n",
    "    results = soup.find('table', {'class':'table-scrollable'}).find('tbody').find_all('tr')\n",
    "    \n",
    "    for result in results:\n",
    "    \n",
    "        # name\n",
    "        try:\n",
    "            name.append(result.find('a', {'class':'tw-hidden lg:tw-flex font-bold tw-items-center tw-justify-between'}).get_text().strip()) \n",
    "        except:\n",
    "            name.append('n/a')\n",
    "\n",
    "        # price\n",
    "        try:\n",
    "            price.append(result.find('td', {'class':'td-price'}).get_text().strip())\n",
    "        except:\n",
    "            price.append('n/a')\n",
    "\n",
    "        # change_1h\n",
    "        try:\n",
    "            change_1h.append(result.find('td', {'class':'td-change1h'}).get_text().strip())\n",
    "        except:\n",
    "            change_1h.append('n/a')\n",
    "\n",
    "        # change_24h\n",
    "        try:\n",
    "            change_24h.append(result.find('td', {'class':'td-change24h'}).get_text().strip())\n",
    "        except:\n",
    "            change_24h.append('n/a')\n",
    "\n",
    "        # change_7d\n",
    "        try:\n",
    "            change_7d.append(result.find('td', {'class':'td-change7d'}).get_text().strip())\n",
    "        except:\n",
    "            change_7d.append('n/a')\n",
    "\n",
    "        # volume_24h\n",
    "        try:\n",
    "            volume_24h.append(result.find('td', {'class':'td-liquidity_score'}).get_text().strip())\n",
    "        except:\n",
    "            volume_24h.append('n/a')\n",
    "\n",
    "        # market_cap\n",
    "        try:\n",
    "            market_cap.append(result.find('td', {'class':'td-market_cap'}).get_text().strip())\n",
    "        except:\n",
    "            market_cap.append('n/a')\n",
    "\n"
   ]
  },
  {
   "cell_type": "code",
   "execution_count": 73,
   "metadata": {},
   "outputs": [],
   "source": [
    "# generate dataframe\n",
    "crypto = pd.DataFrame({'Coin': name, 'Price':price, 'Change 1h':change_1h,'Change 24h': change_24h,\n",
    "                       'Change 7d': change_7d, 'Volume 24h': volume_24h,'Market Cap': market_cap})"
   ]
  },
  {
   "cell_type": "code",
   "execution_count": 74,
   "metadata": {},
   "outputs": [
    {
     "data": {
      "text/html": [
       "<div>\n",
       "<style scoped>\n",
       "    .dataframe tbody tr th:only-of-type {\n",
       "        vertical-align: middle;\n",
       "    }\n",
       "\n",
       "    .dataframe tbody tr th {\n",
       "        vertical-align: top;\n",
       "    }\n",
       "\n",
       "    .dataframe thead th {\n",
       "        text-align: right;\n",
       "    }\n",
       "</style>\n",
       "<table border=\"1\" class=\"dataframe\">\n",
       "  <thead>\n",
       "    <tr style=\"text-align: right;\">\n",
       "      <th></th>\n",
       "      <th>Coin</th>\n",
       "      <th>Price</th>\n",
       "      <th>Change 1h</th>\n",
       "      <th>Change 24h</th>\n",
       "      <th>Change 7d</th>\n",
       "      <th>Volume 24h</th>\n",
       "      <th>Market Cap</th>\n",
       "    </tr>\n",
       "  </thead>\n",
       "  <tbody>\n",
       "    <tr>\n",
       "      <th>0</th>\n",
       "      <td>Bitcoin</td>\n",
       "      <td>$34,454</td>\n",
       "      <td>0.1%</td>\n",
       "      <td>1.8%</td>\n",
       "      <td>9.1%</td>\n",
       "      <td>$20,040,397,625</td>\n",
       "      <td>$648,317,038,359</td>\n",
       "    </tr>\n",
       "    <tr>\n",
       "      <th>1</th>\n",
       "      <td>Ethereum</td>\n",
       "      <td>$2,157.11</td>\n",
       "      <td>-0.1%</td>\n",
       "      <td>0.5%</td>\n",
       "      <td>13.5%</td>\n",
       "      <td>$16,933,204,721</td>\n",
       "      <td>$252,573,835,771</td>\n",
       "    </tr>\n",
       "    <tr>\n",
       "      <th>2</th>\n",
       "      <td>Tether</td>\n",
       "      <td>$1.00</td>\n",
       "      <td>-0.1%</td>\n",
       "      <td>0.1%</td>\n",
       "      <td>-0.1%</td>\n",
       "      <td>$44,809,923,769</td>\n",
       "      <td>$62,070,865,680</td>\n",
       "    </tr>\n",
       "    <tr>\n",
       "      <th>3</th>\n",
       "      <td>Binance Coin</td>\n",
       "      <td>$298.82</td>\n",
       "      <td>0.1%</td>\n",
       "      <td>-0.1%</td>\n",
       "      <td>-0.7%</td>\n",
       "      <td>$1,239,499,254</td>\n",
       "      <td>$46,270,053,089</td>\n",
       "    </tr>\n",
       "    <tr>\n",
       "      <th>4</th>\n",
       "      <td>Cardano</td>\n",
       "      <td>$1.21</td>\n",
       "      <td>0.0%</td>\n",
       "      <td>-0.9%</td>\n",
       "      <td>2.7%</td>\n",
       "      <td>$1,130,478,681</td>\n",
       "      <td>$38,796,497,456</td>\n",
       "    </tr>\n",
       "    <tr>\n",
       "      <th>...</th>\n",
       "      <td>...</td>\n",
       "      <td>...</td>\n",
       "      <td>...</td>\n",
       "      <td>...</td>\n",
       "      <td>...</td>\n",
       "      <td>...</td>\n",
       "      <td>...</td>\n",
       "    </tr>\n",
       "    <tr>\n",
       "      <th>995</th>\n",
       "      <td>Value DeFi</td>\n",
       "      <td>$1.42</td>\n",
       "      <td>-0.6%</td>\n",
       "      <td>1.5%</td>\n",
       "      <td>2.4%</td>\n",
       "      <td>$3,323,860</td>\n",
       "      <td>$6,852,449</td>\n",
       "    </tr>\n",
       "    <tr>\n",
       "      <th>996</th>\n",
       "      <td>Gameswap</td>\n",
       "      <td>$0.781502</td>\n",
       "      <td>-0.2%</td>\n",
       "      <td>-31.7%</td>\n",
       "      <td>205.4%</td>\n",
       "      <td>$1,317,245</td>\n",
       "      <td>$6,846,385</td>\n",
       "    </tr>\n",
       "    <tr>\n",
       "      <th>997</th>\n",
       "      <td>Pickle Finance</td>\n",
       "      <td>$7.12</td>\n",
       "      <td>-0.5%</td>\n",
       "      <td>-9.3%</td>\n",
       "      <td>6.0%</td>\n",
       "      <td>$2,593,817</td>\n",
       "      <td>$6,795,140</td>\n",
       "    </tr>\n",
       "    <tr>\n",
       "      <th>998</th>\n",
       "      <td>Hodl Token</td>\n",
       "      <td>$0.000000028204</td>\n",
       "      <td>-0.8%</td>\n",
       "      <td>0.4%</td>\n",
       "      <td>124.0%</td>\n",
       "      <td>$488,892</td>\n",
       "      <td>$6,788,257</td>\n",
       "    </tr>\n",
       "    <tr>\n",
       "      <th>999</th>\n",
       "      <td>SingularDTV</td>\n",
       "      <td>$0.007926779652</td>\n",
       "      <td>4.5%</td>\n",
       "      <td>1.2%</td>\n",
       "      <td>0.3%</td>\n",
       "      <td>$30,798</td>\n",
       "      <td>$6,760,398</td>\n",
       "    </tr>\n",
       "  </tbody>\n",
       "</table>\n",
       "<p>1000 rows × 7 columns</p>\n",
       "</div>"
      ],
      "text/plain": [
       "               Coin            Price Change 1h Change 24h Change 7d  \\\n",
       "0           Bitcoin          $34,454      0.1%       1.8%      9.1%   \n",
       "1          Ethereum        $2,157.11     -0.1%       0.5%     13.5%   \n",
       "2            Tether            $1.00     -0.1%       0.1%     -0.1%   \n",
       "3      Binance Coin          $298.82      0.1%      -0.1%     -0.7%   \n",
       "4           Cardano            $1.21      0.0%      -0.9%      2.7%   \n",
       "..              ...              ...       ...        ...       ...   \n",
       "995      Value DeFi            $1.42     -0.6%       1.5%      2.4%   \n",
       "996        Gameswap        $0.781502     -0.2%     -31.7%    205.4%   \n",
       "997  Pickle Finance            $7.12     -0.5%      -9.3%      6.0%   \n",
       "998      Hodl Token  $0.000000028204     -0.8%       0.4%    124.0%   \n",
       "999     SingularDTV  $0.007926779652      4.5%       1.2%      0.3%   \n",
       "\n",
       "          Volume 24h        Market Cap  \n",
       "0    $20,040,397,625  $648,317,038,359  \n",
       "1    $16,933,204,721  $252,573,835,771  \n",
       "2    $44,809,923,769   $62,070,865,680  \n",
       "3     $1,239,499,254   $46,270,053,089  \n",
       "4     $1,130,478,681   $38,796,497,456  \n",
       "..               ...               ...  \n",
       "995       $3,323,860        $6,852,449  \n",
       "996       $1,317,245        $6,846,385  \n",
       "997       $2,593,817        $6,795,140  \n",
       "998         $488,892        $6,788,257  \n",
       "999          $30,798        $6,760,398  \n",
       "\n",
       "[1000 rows x 7 columns]"
      ]
     },
     "execution_count": 74,
     "metadata": {},
     "output_type": "execute_result"
    }
   ],
   "source": [
    "# output dataframe\n",
    "crypto "
   ]
  },
  {
   "cell_type": "code",
   "execution_count": 75,
   "metadata": {},
   "outputs": [],
   "source": [
    "crypto.to_excel('crypto_multiple_page.xlsx', index=False)"
   ]
  }
 ],
 "metadata": {
  "kernelspec": {
   "display_name": "Python 3",
   "language": "python",
   "name": "python3"
  },
  "language_info": {
   "codemirror_mode": {
    "name": "ipython",
    "version": 3
   },
   "file_extension": ".py",
   "mimetype": "text/x-python",
   "name": "python",
   "nbconvert_exporter": "python",
   "pygments_lexer": "ipython3",
   "version": "3.9.2"
  }
 },
 "nbformat": 4,
 "nbformat_minor": 4
}
