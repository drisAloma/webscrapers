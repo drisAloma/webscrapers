{
 "cells": [
  {
   "cell_type": "code",
   "execution_count": 1,
   "metadata": {},
   "outputs": [],
   "source": [
    "import pandas as pd\n",
    "import numpy as np\n",
    "import warnings\n",
    "import json\n",
    "import time\n",
    "import re\n",
    "\n",
    "from selenium import webdriver\n",
    "from selenium.webdriver.common.by import By\n",
    "from selenium.webdriver.chrome.options import Options\n",
    "from selenium.webdriver.support.wait import WebDriverWait\n",
    "from selenium.webdriver.support import expected_conditions as EC"
   ]
  },
  {
   "cell_type": "code",
   "execution_count": 2,
   "metadata": {},
   "outputs": [],
   "source": [
    "warnings.filterwarnings('ignore', category = DeprecationWarning)"
   ]
  },
  {
   "cell_type": "code",
   "execution_count": 3,
   "metadata": {},
   "outputs": [],
   "source": [
    "path = \"C:\\Program Files (x86)\\chromedriver.exe\" # webdriver path"
   ]
  },
  {
   "cell_type": "code",
   "execution_count": 4,
   "metadata": {},
   "outputs": [],
   "source": [
    "options = Options()\n",
    "\n",
    "options.add_experimental_option(\"excludeSwitches\", [\"enable-automation\"])\n",
    "options.add_experimental_option('useAutomationExtension', False)\n",
    "options.add_argument(\"--disable-blink-features=AutomationControlled\")\n",
    "options.add_argument(\"--disable-gpu\")\n",
    "options.add_argument(\"--no-sandbox\")\n",
    "# options.add_argument(\"--headless\")\n",
    "# options.headless = True"
   ]
  },
  {
   "cell_type": "code",
   "execution_count": 5,
   "metadata": {},
   "outputs": [],
   "source": [
    "url = 'https://www.amazon.com/s?k=ps4&i=videogames-intl-ship&crid=E0RBIID8Y7OQ&sprefix=ps%2Cvideogames-intl-ship%2C295&ref=nb_sb_ss_ts-doa-p_1_2'"
   ]
  },
  {
   "cell_type": "code",
   "execution_count": null,
   "metadata": {},
   "outputs": [],
   "source": [
    "with open(\"data.json\", \"w\") as f:\n",
    "    json.dump([], f)\n",
    "\n",
    "def write_json(new_data, filename='data.json'):\n",
    "    with open(filename,'r+') as file:\n",
    "          # First we load existing data into a dict.\n",
    "        file_data = json.load(file)\n",
    "        # Join new_data with file_data inside emp_details\n",
    "        file_data.append(new_data)\n",
    "        # Sets file's current position at offset.\n",
    "        file.seek(0)\n",
    "        # convert back to json.\n",
    "        json.dump(file_data, file, indent = 4)\n",
    "\n",
    "browser = webdriver.Chrome(executable_path=path)\n",
    "browser.get(url)\n",
    "isNextDisabled = False\n",
    "\n",
    "while not isNextDisabled:\n",
    "    try:\n",
    "        element = WebDriverWait(browser, 10).until(EC.presence_of_element_located(\n",
    "            (By.XPATH, '//div[@data-component-type=\"s-search-result\"]')))\n",
    "\n",
    "        elem_list = browser.find_element(\n",
    "            By.CSS_SELECTOR, \"div.s-main-slot.s-result-list.s-search-results.sg-row\")\n",
    "\n",
    "        items = elem_list.find_elements(\n",
    "            By.XPATH, '//div[@data-component-type=\"s-search-result\"]')\n",
    "\n",
    "        for item in items:\n",
    "            title = item.find_element(By.TAG_NAME, 'h2').text\n",
    "            price = \"No Price Found\"\n",
    "            img = \"No Image Found\"\n",
    "            link = item.find_element(\n",
    "                By.CLASS_NAME, 'a-link-normal').get_attribute('href')\n",
    "\n",
    "            try:\n",
    "                price = item.find_element(\n",
    "                    By.CSS_SELECTOR, '.a-price').text.replace(\"\\n\", \".\")\n",
    "            except:\n",
    "                pass\n",
    "\n",
    "            try:\n",
    "                img = item.find_element(\n",
    "                    By.CSS_SELECTOR, '.s-image').get_attribute(\"src\")\n",
    "            except:\n",
    "                pass\n",
    "\n",
    "            write_json({\n",
    "                \"title\": title,\n",
    "                \"price\": price,\n",
    "                \"image\": img,\n",
    "                \"link\": link\n",
    "            })\n",
    "\n",
    "\n",
    "        next_btn = WebDriverWait(browser, 10).until(EC.presence_of_element_located(\n",
    "            (By.CLASS_NAME, 's-pagination-next')))\n",
    "\n",
    "        next_class = next_btn.get_attribute('class')\n",
    "\n",
    "        if \"disabled\" in next_class:\n",
    "            isNextDisabled = True\n",
    "        else:\n",
    "            browser.find_element(By.CLASS_NAME, 's-pagination-next').click()\n",
    "\n",
    "    except Exception as e:\n",
    "        print(e, \"Main Error\")\n",
    "        isNextDisabled = True"
   ]
  }
 ],
 "metadata": {
  "kernelspec": {
   "display_name": "Python 3.8.8 64-bit ('Anaconda3')",
   "language": "python",
   "name": "python3"
  },
  "language_info": {
   "codemirror_mode": {
    "name": "ipython",
    "version": 3
   },
   "file_extension": ".py",
   "mimetype": "text/x-python",
   "name": "python",
   "nbconvert_exporter": "python",
   "pygments_lexer": "ipython3",
   "version": "3.8.8"
  },
  "orig_nbformat": 4,
  "vscode": {
   "interpreter": {
    "hash": "5ee514d793812439e2642e857813194a4287fd89316ca0a4fbe22d23869ad8e2"
   }
  }
 },
 "nbformat": 4,
 "nbformat_minor": 2
}
